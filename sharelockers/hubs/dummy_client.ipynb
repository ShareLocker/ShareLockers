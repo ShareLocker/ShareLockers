{
 "cells": [
  {
   "cell_type": "code",
   "execution_count": 1,
   "metadata": {
    "collapsed": true
   },
   "outputs": [],
   "source": [
    "import requests\n",
    "from pprint import pprint as pprint\n",
    "from datetime import datetime\n",
    "import time"
   ]
  },
  {
   "cell_type": "code",
   "execution_count": 2,
   "metadata": {
    "collapsed": false
   },
   "outputs": [
    {
     "name": "stdout",
     "output_type": "stream",
     "text": [
      "### GET google.com ###\n",
      "{'date': 'Sat, 11 Jul 2015 06:18:52 GMT', 'transfer-encoding': 'chunked', 'set-cookie': 'PREF=ID=1111111111111111:FF=0:TM=1436595532:LM=1436595532:V=1:S=sgzmT7kyTtkwKtcB; expires=Mon, 10-Jul-2017 06:18:52 GMT; path=/; domain=.google.com, NID=69=JoSkRdOp-pOioMdpTBWRDqiYxstMdkNrq_yjoS9tumTQmdZ1iedeQQOe_sPiwNAcbMuJSLEcGmudEmR8INyj-eSmInXvP_BNEEW7g-is4Qf3X5jh39VeeJUlwqcMnq7h; expires=Sun, 10-Jan-2016 06:18:52 GMT; path=/; domain=.google.com; HttpOnly', 'expires': '-1', 'vary': 'Accept-Encoding', 'x-frame-options': 'SAMEORIGIN', 'server': 'gws', 'x-xss-protection': '1; mode=block', 'content-type': 'text/html; charset=ISO-8859-1', 'alternate-protocol': '80:quic,p=0', 'cache-control': 'private, max-age=0', 'p3p': 'CP=\"This is not a P3P policy! See http://www.google.com/support/accounts/bin/answer.py?hl=en&answer=151657 for more info.\"', 'accept-ranges': 'none'}\n",
      "('<!doctype html><html itemscope=\"\" itemtype=\"http://schema.org/WebPage\" '\n",
      " 'lang=\"en\"><head><meta content=\"Search the world\\'s information, including '\n",
      " 'webpages, images, videos and more. Google has many special features to '\n",
      " \"help you find exactly what you're lookin\")\n"
     ]
    }
   ],
   "source": [
    "print('### GET google.com ###')\n",
    "resp = requests.get('http://www.google.com')\n",
    "pprint(resp.headers)\n",
    "pprint(resp.text[:255])"
   ]
  },
  {
   "cell_type": "code",
   "execution_count": 3,
   "metadata": {
    "collapsed": false
   },
   "outputs": [
    {
     "name": "stdout",
     "output_type": "stream",
     "text": [
      "### POST activity ###\n",
      "{'id': 16,\n",
      " 'stat_set': [],\n",
      " 'title': '2015-07-10 15:38:26.923159',\n",
      " 'url': 'https://vast-headland-9093.herokuapp.com/api/activities/16/'}\n"
     ]
    }
   ],
   "source": [
    "print('### POST activity ###')\n",
    "post_data = {'title' : str(datetime.now())}\n",
    "resp = requests.post('https://vast-headland-9093.herokuapp.com/api/activities/', data=post_data)\n",
    "pprint(resp.json())"
   ]
  },
  {
   "cell_type": "markdown",
   "metadata": {},
   "source": [
    "+char root_addr[] = \"192.168.1.2\";\n",
    "\n",
    "+int poll_freq = 5000;\n",
    "+int found_message = 0;\n",
    "+int era = 2;\n",
    "\n",
    "+ // code to regularily poll server, if we are doing that\n",
    "+  int time = millis();\n",
    "+  if (time / poll_freq > era) {\n",
    "+    Serial.println(time);\n",
    "+    era = time / poll_freq;\n",
    "+    char tail_addr[] = \"/hubs/poll/\";\n",
    "+    makeRequest(tail_addr);\n",
    "+    if (found_message == 1) {\n",
    "+      found_message = 0;\n",
    "+      Serial.println(\"found message\");\n",
    "+      JustSwitchOn();\n",
    "+      delay(3000); // method to open with polling\n",
    "+      SwitchOff();\n",
    "+    }\n",
    "+  }\n",
    "\n",
    "+void JustSwitchOn() {\n",
    "+  digitalWrite(1+row, LOW);\n",
    "+  digitalWrite(5+col, LOW);\n",
    "+}\n",
    "+\n",
    " void SwitchOff() {\n",
    "   digitalWrite(1+row, HIGH);\n",
    "   digitalWrite(5+col, HIGH);\n",
    " }\n",
    " \n",
    " +  int start_stream = 0;\n",
    "   while (true) {\n",
    "     if (client.available()) { // read incoming byes from server\n",
    "       char c = client.read();\n",
    "+      if (start_stream == 1) {\n",
    "+        col = c - '0'; // this convert char into into\n",
    "+        start_stream = 2;\n",
    "+      } else if (start_stream == 2) {\n",
    "+        row = c - '0';\n",
    "+        found_message = 1;\n",
    "+        start_stream = 3;\n",
    "+      } else if (c == '?') {\n",
    "+        start_stream = 1;\n",
    "+      }\n",
    "       Serial.print(c);\n",
    "     }\n",
    " void makeRequest(char* tail) {\n",
    " \n",
    "   Serial.println(\"connecting...\");\n",
    " \n",
    "   if (client.connect(root_addr, server_port)) { // could use server_ip\n",
    "     Serial.println(\"connected\");\n",
    "     client.print(\"GET \");  // ex. \"GET /hubs/connected/2 HTTP/1.1\"\n",
    "     client.print(tail);\n",
    "     client.print(secretkey);\n",
    "     client.println(\" HTTP/1.1\");\n",
    "     client.println(\"Connection: close\");\n",
    "     client.println();\n",
    "   }\n",
    "   else {\n",
    "     Serial.println(\"connection failed\");\n",
    "   }\n"
   ]
  },
  {
   "cell_type": "markdown",
   "metadata": {},
   "source": [
    "### Initialize Hub with 'secret' id of 2 -- this will generate 2 x 4 locker objects associated with hub 2\n",
    "### Simply visit this url to 'connect' the hub and generate locker objects if not yet present"
   ]
  },
  {
   "cell_type": "code",
   "execution_count": 3,
   "metadata": {
    "collapsed": true
   },
   "outputs": [],
   "source": [
    "secret = '2'\n",
    "ip = 'http://127.0.0.1:8000'\n",
    "connect = ip + '/hubs/connected/' + secret\n",
    "poll = ip + '/hubs/poll/' + secret\n",
    "finished = ip + '/hubs/finished/' + secret"
   ]
  },
  {
   "cell_type": "code",
   "execution_count": 4,
   "metadata": {
    "collapsed": false
   },
   "outputs": [
    {
     "data": {
      "text/plain": [
       "'<html>Hi, arduino</html>\\n'"
      ]
     },
     "execution_count": 4,
     "metadata": {},
     "output_type": "execute_result"
    }
   ],
   "source": [
    "resp = requests.get(connect); resp.text"
   ]
  },
  {
   "cell_type": "code",
   "execution_count": 5,
   "metadata": {
    "collapsed": false
   },
   "outputs": [
    {
     "data": {
      "text/plain": [
       "('?', '1', '1')"
      ]
     },
     "execution_count": 5,
     "metadata": {},
     "output_type": "execute_result"
    }
   ],
   "source": [
    "resp = requests.get(poll); resp.text\n",
    "action, column, row = tuple(char for char in resp.text)[:3]\n",
    "action, column, row"
   ]
  },
  {
   "cell_type": "code",
   "execution_count": 32,
   "metadata": {
    "collapsed": false
   },
   "outputs": [],
   "source": [
    "# resp = requests.get(finished); resp.text"
   ]
  },
  {
   "cell_type": "code",
   "execution_count": 38,
   "metadata": {
    "collapsed": true
   },
   "outputs": [],
   "source": [
    "# action = '?'"
   ]
  },
  {
   "cell_type": "code",
   "execution_count": 6,
   "metadata": {
    "collapsed": true
   },
   "outputs": [],
   "source": [
    "def poll_status():\n",
    "    resp = requests.get(poll); resp.text\n",
    "    action, column, row = tuple(char for char in resp.text)[:3]\n",
    "    return action, column, row\n"
   ]
  },
  {
   "cell_type": "code",
   "execution_count": 7,
   "metadata": {
    "collapsed": false
   },
   "outputs": [],
   "source": [
    "def open_locker(column, row):\n",
    "    print('Opening {}-{}'.format(column, row))\n",
    "    print('Waiting 2s for motor')\n",
    "    time.sleep(2)"
   ]
  },
  {
   "cell_type": "markdown",
   "metadata": {},
   "source": [
    "## Now POST an open object (simulate what the API/javascript will do)\n",
    "### First get item data"
   ]
  },
  {
   "cell_type": "code",
   "execution_count": 105,
   "metadata": {
    "collapsed": false
   },
   "outputs": [
    {
     "data": {
      "text/plain": [
       "{'actions': ['can_stock', 'can_delete'],\n",
       " 'created_at': '2015-07-10T15:50:46.389688Z',\n",
       " 'description': 'Ball for bowling',\n",
       " 'id': 1,\n",
       " 'locker': None,\n",
       " 'owner': 1,\n",
       " 'price': '1.00',\n",
       " 'title': 'Bowling Ball'}"
      ]
     },
     "execution_count": 105,
     "metadata": {},
     "output_type": "execute_result"
    }
   ],
   "source": [
    "# Must be logged in though session cookie for this to work\n",
    "# Also must have a profile 1 and 2 in your local db\n",
    "# Must have locker 1 free\n",
    "# Profile 1 must have item 1 with no locker assigned\n",
    "import json\n",
    "item_data_json = requests.get('http://localhost:8000/api/owneditems/1/').text\n",
    "item_data = json.loads(item_data_json)\n",
    "item_data"
   ]
  },
  {
   "cell_type": "markdown",
   "metadata": {},
   "source": [
    "### Now assign that item to locker 1"
   ]
  },
  {
   "cell_type": "code",
   "execution_count": 106,
   "metadata": {
    "collapsed": false
   },
   "outputs": [
    {
     "name": "stdout",
     "output_type": "stream",
     "text": [
      "{\"id\":1,\"actions\":[\"can_open\"],\"created_at\":\"2015-07-10T15:50:46.389688Z\",\"title\":\"Bowling Ball\",\"description\":\"Ball for bowling\",\"price\":\"1.00\",\"owner\":1,\"locker\":1}\n"
     ]
    }
   ],
   "source": [
    "item_data['locker'] = 1\n",
    "resp = requests.put('http://localhost:8000/api/owneditems/1/', data=item_data)\n",
    "print(resp.text)"
   ]
  },
  {
   "cell_type": "markdown",
   "metadata": {},
   "source": [
    "###Now create an unlock transaction\n",
    "####This will also remove item 1 from the locker in the db\n",
    "Note: If something goes awry, we the unlock object keeps a record of which locker it had been in..."
   ]
  },
  {
   "cell_type": "code",
   "execution_count": 107,
   "metadata": {
    "collapsed": false
   },
   "outputs": [
    {
     "data": {
      "text/plain": [
       "'{\"waiting\":true,\"profile\":1,\"locker\":1}'"
      ]
     },
     "execution_count": 107,
     "metadata": {},
     "output_type": "execute_result"
    }
   ],
   "source": [
    "post_data = {\n",
    "    \"waiting\": True,\n",
    "    \"profile\": 1,\n",
    "    \"locker\": 1\n",
    "}\n",
    "resp = requests.post('http://127.0.0.1:8000/api/unlocks/', data=post_data)\n",
    "resp.text"
   ]
  },
  {
   "cell_type": "markdown",
   "metadata": {},
   "source": [
    "###Note the output in the console log for validation/setting up polling/destocking, POST\n",
    "\n",
    "##Now we have an unlock action ready to be polled, so let's poll the server a couple of times with our 'dummy' client (simulate the raspberry pi python code)\n"
   ]
  },
  {
   "cell_type": "code",
   "execution_count": 108,
   "metadata": {
    "collapsed": false
   },
   "outputs": [
    {
     "name": "stdout",
     "output_type": "stream",
     "text": [
      "Opening 1-1\n",
      "Waiting 2s for motor\n",
      "Nothing to do yet...\n"
     ]
    }
   ],
   "source": [
    "for _ in range(2):\n",
    "    action, column, row = poll_status()\n",
    "    if action == '?':\n",
    "        open_locker(column, row)\n",
    "    else:\n",
    "        print('Nothing to do yet...')\n",
    "    time.sleep(1)"
   ]
  },
  {
   "cell_type": "markdown",
   "metadata": {
    "collapsed": true
   },
   "source": [
    "#Success! It first opened 1-1 where the item was stored, and on the second poll, everything had cleared so there was nothing to do"
   ]
  },
  {
   "cell_type": "code",
   "execution_count": null,
   "metadata": {
    "collapsed": true
   },
   "outputs": [],
   "source": []
  },
  {
   "cell_type": "code",
   "execution_count": null,
   "metadata": {
    "collapsed": true
   },
   "outputs": [],
   "source": []
  }
 ],
 "metadata": {
  "kernelspec": {
   "display_name": "Python 3",
   "language": "python",
   "name": "python3"
  },
  "language_info": {
   "codemirror_mode": {
    "name": "ipython",
    "version": 3
   },
   "file_extension": ".py",
   "mimetype": "text/x-python",
   "name": "python",
   "nbconvert_exporter": "python",
   "pygments_lexer": "ipython3",
   "version": "3.4.3"
  }
 },
 "nbformat": 4,
 "nbformat_minor": 0
}
